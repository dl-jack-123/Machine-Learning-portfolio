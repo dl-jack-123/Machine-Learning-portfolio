{
 "cells": [
  {
   "cell_type": "code",
   "execution_count": 1,
   "metadata": {},
   "outputs": [],
   "source": [
    "import numpy as np\n",
    "import torch,  os\n",
    "import pandas as pd\n",
    "from torchvision import datasets, transforms\n",
    "from sklearn.model_selection import train_test_split\n",
    "from torch import nn, optim\n",
    "import torch.nn.functional as F\n",
    "import cv2"
   ]
  },
  {
   "cell_type": "code",
   "execution_count": 22,
   "metadata": {},
   "outputs": [],
   "source": [
    "# load data\n",
    "\n",
    "train_df = pd.read_csv(r'./train.csv')\n",
    "test_df = pd.read_csv(r'./test.csv')\n",
    "train_picture_path=  r'./train'\n",
    "test_picture_path = r'./test_images/'\n",
    "zoom=32\n",
    "IMG_SIZE = zoom\n",
    "NUM_CLASSES = 10\n",
    "GRAYSCALE = False"
   ]
  },
  {
   "cell_type": "code",
   "execution_count": 5,
   "metadata": {},
   "outputs": [
    {
     "data": {
      "text/html": [
       "<div>\n",
       "<style scoped>\n",
       "    .dataframe tbody tr th:only-of-type {\n",
       "        vertical-align: middle;\n",
       "    }\n",
       "\n",
       "    .dataframe tbody tr th {\n",
       "        vertical-align: top;\n",
       "    }\n",
       "\n",
       "    .dataframe thead th {\n",
       "        text-align: right;\n",
       "    }\n",
       "</style>\n",
       "<table border=\"1\" class=\"dataframe\">\n",
       "  <thead>\n",
       "    <tr style=\"text-align: right;\">\n",
       "      <th></th>\n",
       "      <th>ID</th>\n",
       "      <th>Label</th>\n",
       "    </tr>\n",
       "  </thead>\n",
       "  <tbody>\n",
       "    <tr>\n",
       "      <th>0</th>\n",
       "      <td>train_00000.png</td>\n",
       "      <td>0</td>\n",
       "    </tr>\n",
       "    <tr>\n",
       "      <th>1</th>\n",
       "      <td>train_00001.png</td>\n",
       "      <td>1</td>\n",
       "    </tr>\n",
       "    <tr>\n",
       "      <th>2</th>\n",
       "      <td>train_00002.png</td>\n",
       "      <td>1</td>\n",
       "    </tr>\n",
       "    <tr>\n",
       "      <th>3</th>\n",
       "      <td>train_00003.png</td>\n",
       "      <td>5</td>\n",
       "    </tr>\n",
       "    <tr>\n",
       "      <th>4</th>\n",
       "      <td>train_00004.png</td>\n",
       "      <td>5</td>\n",
       "    </tr>\n",
       "  </tbody>\n",
       "</table>\n",
       "</div>"
      ],
      "text/plain": [
       "                ID  Label\n",
       "0  train_00000.png      0\n",
       "1  train_00001.png      1\n",
       "2  train_00002.png      1\n",
       "3  train_00003.png      5\n",
       "4  train_00004.png      5"
      ]
     },
     "execution_count": 5,
     "metadata": {},
     "output_type": "execute_result"
    }
   ],
   "source": [
    "train_df.head()"
   ]
  },
  {
   "cell_type": "code",
   "execution_count": 6,
   "metadata": {},
   "outputs": [],
   "source": [
    "def load_images(x,zoom , dir_path):\n",
    "    return cv2.resize(cv2.imread(os.path.join(dir_path , x)),(zoom,zoom))"
   ]
  },
  {
   "cell_type": "code",
   "execution_count": 7,
   "metadata": {},
   "outputs": [],
   "source": [
    "# Create a Dataset to hold the input data and make it available to dataloader\n",
    "class MyDataset(torch.utils.data.Dataset):\n",
    "    def __init__(self, images, labels, transforms=None):\n",
    "        self.X = images\n",
    "        self.y = labels\n",
    "        self.transforms = transforms\n",
    "        \n",
    "    def __len__(self):\n",
    "        return (len(self.X))\n",
    "    \n",
    "    def __getitem__(self, i):\n",
    "        data = self.X.iloc[i]\n",
    "        data = np.array(data).astype(np.uint8).reshape(IMG_SIZE, IMG_SIZE, 3)\n",
    "        \n",
    "        if self.transforms:\n",
    "            data = self.transforms(data)\n",
    "            \n",
    "            # Also return label if we have it\n",
    "            if self.y is not None:\n",
    "                return (data, self.y[i])\n",
    "            else:\n",
    "                return data    "
   ]
  },
  {
   "cell_type": "code",
   "execution_count": 8,
   "metadata": {},
   "outputs": [
    {
     "data": {
      "text/html": [
       "<div>\n",
       "<style scoped>\n",
       "    .dataframe tbody tr th:only-of-type {\n",
       "        vertical-align: middle;\n",
       "    }\n",
       "\n",
       "    .dataframe tbody tr th {\n",
       "        vertical-align: top;\n",
       "    }\n",
       "\n",
       "    .dataframe thead th {\n",
       "        text-align: right;\n",
       "    }\n",
       "</style>\n",
       "<table border=\"1\" class=\"dataframe\">\n",
       "  <thead>\n",
       "    <tr style=\"text-align: right;\">\n",
       "      <th></th>\n",
       "      <th>ID</th>\n",
       "      <th>Label</th>\n",
       "    </tr>\n",
       "  </thead>\n",
       "  <tbody>\n",
       "    <tr>\n",
       "      <th>0</th>\n",
       "      <td>train_00000.png</td>\n",
       "      <td>0</td>\n",
       "    </tr>\n",
       "    <tr>\n",
       "      <th>1</th>\n",
       "      <td>train_00001.png</td>\n",
       "      <td>1</td>\n",
       "    </tr>\n",
       "    <tr>\n",
       "      <th>2</th>\n",
       "      <td>train_00002.png</td>\n",
       "      <td>1</td>\n",
       "    </tr>\n",
       "    <tr>\n",
       "      <th>3</th>\n",
       "      <td>train_00003.png</td>\n",
       "      <td>5</td>\n",
       "    </tr>\n",
       "    <tr>\n",
       "      <th>4</th>\n",
       "      <td>train_00004.png</td>\n",
       "      <td>5</td>\n",
       "    </tr>\n",
       "  </tbody>\n",
       "</table>\n",
       "</div>"
      ],
      "text/plain": [
       "                ID  Label\n",
       "0  train_00000.png      0\n",
       "1  train_00001.png      1\n",
       "2  train_00002.png      1\n",
       "3  train_00003.png      5\n",
       "4  train_00004.png      5"
      ]
     },
     "execution_count": 8,
     "metadata": {},
     "output_type": "execute_result"
    }
   ],
   "source": [
    "train_df.head()"
   ]
  },
  {
   "cell_type": "code",
   "execution_count": 9,
   "metadata": {},
   "outputs": [],
   "source": [
    "train_df['Data'] = train_df['ID'].apply(lambda x : load_images(x,zoom , train_picture_path))\n",
    "test_df['Data'] = test_df['ID'].apply(lambda x : load_images(x , zoom, test_picture_path))"
   ]
  },
  {
   "cell_type": "code",
   "execution_count": 10,
   "metadata": {},
   "outputs": [],
   "source": [
    "all_train_labels=train_df['Label']\n",
    "all_train_images = train_df['Data']\n",
    "\n",
    "test_images = test_df['Data']\n",
    "\n",
    "# Split training data so we have a small validation set and training set\n",
    "train_images, val_images, train_labels, val_labels = train_test_split(all_train_images, all_train_labels, test_size=0.2)\n",
    "\n",
    "# Reindex so we can refer to first element using index 0\n",
    "train_images.reset_index(drop=True, inplace=True)\n",
    "val_images.reset_index(drop=True, inplace=True)\n",
    "train_labels.reset_index(drop=True, inplace=True)\n",
    "val_labels.reset_index(drop=True, inplace=True)"
   ]
  },
  {
   "cell_type": "code",
   "execution_count": 11,
   "metadata": {},
   "outputs": [],
   "source": [
    "# Training Image transformations\n",
    "train_trans = transforms.Compose([\n",
    "    transforms.ToPILImage(),\n",
    "    transforms.ToTensor()\n",
    "]\n",
    ")\n",
    "# Validation Image transformations\n",
    "val_trans = transforms.Compose([\n",
    "    transforms.ToPILImage(),\n",
    "    transforms.ToTensor()\n",
    "]\n",
    ")\n"
   ]
  },
  {
   "cell_type": "code",
   "execution_count": 12,
   "metadata": {},
   "outputs": [],
   "source": [
    "# Create data loaders\n",
    "batch_size = 64\n",
    "\n",
    "train_dataset = MyDataset(train_images, train_labels, train_trans)\n",
    "val_dataset = MyDataset(val_images, val_labels, val_trans)\n",
    "test_dataset = MyDataset(test_images, None, val_trans)\n",
    "\n",
    "train_loader = torch.utils.data.DataLoader(train_dataset, batch_size=batch_size, shuffle=True)\n",
    "val_loader = torch.utils.data.DataLoader(val_dataset, batch_size=batch_size, shuffle=True)\n",
    "test_loader = torch.utils.data.DataLoader(test_dataset, batch_size=batch_size, shuffle=True)\n"
   ]
  },
  {
   "cell_type": "code",
   "execution_count": 26,
   "metadata": {},
   "outputs": [],
   "source": [
    "class LeNet5(nn.Module):\n",
    "    # calculate same padding:\n",
    "    # (w - k + 2*p)/s + 1 = o\n",
    "    # => p = (s(o-1) - w + k)/2\n",
    "    def __init__(self , num_classes , grayscale= False):\n",
    "        super(LeNet5,self).__init__()\n",
    "        \n",
    "        self.num_classes = num_classes\n",
    "        self.grayscale = grayscale\n",
    "        \n",
    "        if grayscale:\n",
    "            in_channels = 1\n",
    "        else :\n",
    "            in_channels = 3\n",
    "            \n",
    "        self.feature = nn.Sequential(\n",
    "            nn.Conv2d(\n",
    "            in_channels=in_channels,\n",
    "            out_channels=16,\n",
    "            kernel_size=5,\n",
    "            stride=1,\n",
    "            padding=2,\n",
    "            ),\n",
    "            nn.MaxPool2d(kernel_size=2),\n",
    "            nn.Conv2d(16,32,5,1,2),\n",
    "            nn.MaxPool2d(kernel_size=2)\n",
    "        )\n",
    "\n",
    "        self.classifier = nn.Sequential(\n",
    "            nn.Linear(32*8*8,120),\n",
    "            nn.Linear(120,64),\n",
    "            nn.Linear(64,self.num_classes))\n",
    "                    \n",
    "    def forward(self,x):\n",
    "        x = self.feature(x)\n",
    "        x = torch.flatten(x,1)\n",
    "        logits = self.classifier(x)\n",
    "\n",
    "        \n",
    "        return logits"
   ]
  },
  {
   "cell_type": "code",
   "execution_count": 27,
   "metadata": {},
   "outputs": [],
   "source": [
    "device = torch.device(\"cuda:0\" if torch.cuda.is_available() else \"cpu\")\n",
    "model = LeNet5(NUM_CLASSES , GRAYSCALE)\n",
    "optimizer = torch.optim.Adam(model.parameters(), lr=1e-5)\n"
   ]
  },
  {
   "cell_type": "code",
   "execution_count": 31,
   "metadata": {},
   "outputs": [
    {
     "data": {
      "text/plain": [
       "LeNet5(\n",
       "  (feature): Sequential(\n",
       "    (0): Conv2d(3, 16, kernel_size=(5, 5), stride=(1, 1), padding=(2, 2))\n",
       "    (1): MaxPool2d(kernel_size=2, stride=2, padding=0, dilation=1, ceil_mode=False)\n",
       "    (2): Conv2d(16, 32, kernel_size=(5, 5), stride=(1, 1), padding=(2, 2))\n",
       "    (3): MaxPool2d(kernel_size=2, stride=2, padding=0, dilation=1, ceil_mode=False)\n",
       "  )\n",
       "  (classifier): Sequential(\n",
       "    (0): Linear(in_features=2048, out_features=120, bias=True)\n",
       "    (1): Linear(in_features=120, out_features=64, bias=True)\n",
       "    (2): Linear(in_features=64, out_features=10, bias=True)\n",
       "  )\n",
       ")"
      ]
     },
     "execution_count": 31,
     "metadata": {},
     "output_type": "execute_result"
    }
   ],
   "source": [
    "LeNet5(NUM_CLASSES , GRAYSCALE)"
   ]
  },
  {
   "cell_type": "code",
   "execution_count": 95,
   "metadata": {
    "scrolled": true
   },
   "outputs": [],
   "source": []
  },
  {
   "cell_type": "code",
   "execution_count": 29,
   "metadata": {
    "scrolled": true
   },
   "outputs": [
    {
     "name": "stdout",
     "output_type": "stream",
     "text": [
      "Epoch: 1/30..  Training Loss: 2.139..  Validation Loss: 2.074..  Accuracy: 0.245\n",
      "Epoch: 2/30..  Training Loss: 1.966..  Validation Loss: 1.926..  Accuracy: 0.246\n",
      "Epoch: 3/30..  Training Loss: 1.829..  Validation Loss: 1.834..  Accuracy: 0.245\n",
      "Epoch: 4/30..  Training Loss: 1.756..  Validation Loss: 1.774..  Accuracy: 0.245\n",
      "Epoch: 5/30..  Training Loss: 1.710..  Validation Loss: 1.730..  Accuracy: 0.244\n",
      "Epoch: 6/30..  Training Loss: 1.683..  Validation Loss: 1.704..  Accuracy: 0.246\n",
      "Epoch: 7/30..  Training Loss: 1.668..  Validation Loss: 1.694..  Accuracy: 0.244\n",
      "Epoch: 8/30..  Training Loss: 1.662..  Validation Loss: 1.682..  Accuracy: 0.245\n",
      "Epoch: 9/30..  Training Loss: 1.653..  Validation Loss: 1.678..  Accuracy: 0.245\n",
      "Epoch: 10/30..  Training Loss: 1.647..  Validation Loss: 1.676..  Accuracy: 0.244\n",
      "Epoch: 11/30..  Training Loss: 1.647..  Validation Loss: 1.670..  Accuracy: 0.245\n",
      "Epoch: 12/30..  Training Loss: 1.642..  Validation Loss: 1.667..  Accuracy: 0.244\n",
      "Epoch: 13/30..  Training Loss: 1.639..  Validation Loss: 1.664..  Accuracy: 0.245\n",
      "Epoch: 14/30..  Training Loss: 1.639..  Validation Loss: 1.665..  Accuracy: 0.245\n",
      "Epoch: 15/30..  Training Loss: 1.635..  Validation Loss: 1.659..  Accuracy: 0.245\n",
      "Epoch: 16/30..  Training Loss: 1.633..  Validation Loss: 1.657..  Accuracy: 0.246\n",
      "Epoch: 17/30..  Training Loss: 1.632..  Validation Loss: 1.653..  Accuracy: 0.246\n",
      "Epoch: 18/30..  Training Loss: 1.630..  Validation Loss: 1.652..  Accuracy: 0.246\n",
      "Epoch: 19/30..  Training Loss: 1.629..  Validation Loss: 1.652..  Accuracy: 0.484\n",
      "Epoch: 20/30..  Training Loss: 1.626..  Validation Loss: 1.656..  Accuracy: 0.244\n",
      "Epoch: 21/30..  Training Loss: 1.623..  Validation Loss: 1.649..  Accuracy: 0.469\n",
      "Epoch: 22/30..  Training Loss: 1.622..  Validation Loss: 1.644..  Accuracy: 0.245\n",
      "Epoch: 23/30..  Training Loss: 1.621..  Validation Loss: 1.649..  Accuracy: 0.244\n",
      "Epoch: 24/30..  Training Loss: 1.619..  Validation Loss: 1.645..  Accuracy: 0.469\n",
      "Epoch: 25/30..  Training Loss: 1.619..  Validation Loss: 1.643..  Accuracy: 0.245\n",
      "Epoch: 26/30..  Training Loss: 1.615..  Validation Loss: 1.641..  Accuracy: 0.245\n",
      "Epoch: 27/30..  Training Loss: 1.615..  Validation Loss: 1.635..  Accuracy: 0.245\n",
      "Epoch: 28/30..  Training Loss: 1.613..  Validation Loss: 1.633..  Accuracy: 0.470\n",
      "Epoch: 29/30..  Training Loss: 1.611..  Validation Loss: 1.631..  Accuracy: 0.245\n",
      "Epoch: 30/30..  Training Loss: 1.607..  Validation Loss: 1.632..  Accuracy: 0.321\n"
     ]
    }
   ],
   "source": [
    "# Train the model\n",
    "\n",
    "epochs = 30\n",
    "\n",
    "train_losses, val_losses = [], []\n",
    "for e in range(epochs):\n",
    "    running_loss = 0\n",
    "    for images, labels in train_loader:\n",
    "        # Clear last image's results\n",
    "        optimizer.zero_grad()\n",
    "        log_ps = model(images)\n",
    "        loss = F.cross_entropy(log_ps, labels)\n",
    "        loss.backward()\n",
    "        optimizer.step()\n",
    "        running_loss += loss.item()\n",
    "    else:\n",
    "        val_loss = 0\n",
    "        accuracy = 0\n",
    "        with torch.no_grad():\n",
    "            for images, labels in val_loader:\n",
    "                log_ps = model(images)\n",
    "                val_loss +=  F.cross_entropy(log_ps, labels)\n",
    "                ps = torch.exp(log_ps)\n",
    "                top_p, top_class = ps.topk(1, dim=1)\n",
    "                equals = top_class == labels.view(*top_class.shape)\n",
    "                accuracy += torch.mean(equals.type(torch.FloatTensor))\n",
    "        \n",
    "        train_losses.append(running_loss/len(train_loader))\n",
    "        val_losses.append(val_loss/len(val_loader))\n",
    "        \n",
    "        print(\"Epoch: {}/{}.. \".format(e+1, epochs),\n",
    "             \"Training Loss: {:.3f}.. \".format(running_loss/len(train_loader)),\n",
    "             \"Validation Loss: {:.3f}.. \".format(val_loss/len(val_loader)),\n",
    "             \"Accuracy: {:.3f}\".format(accuracy/len(val_loader)))\n",
    "        "
   ]
  },
  {
   "cell_type": "code",
   "execution_count": null,
   "metadata": {},
   "outputs": [],
   "source": []
  },
  {
   "cell_type": "code",
   "execution_count": 30,
   "metadata": {
    "scrolled": true
   },
   "outputs": [
    {
     "data": {
      "image/png": "[encoded data removed]",
      "text/plain": [
       "<Figure size 432x288 with 1 Axes>"
      ]
     },
     "metadata": {
      "image/png": {
       "height": 250,
       "width": 373
      }
     },
     "output_type": "display_data"
    }
   ],
   "source": [
    "# Plot the losses\n",
    "%matplotlib inline\n",
    "%config InlineBackend.figure_format = 'retina'\n",
    "import matplotlib.pyplot as plt\n",
    "\n",
    "plt.plot(train_losses, label='Training Loss')\n",
    "plt.plot(val_losses, label='Validation Loss')\n",
    "plt.legend(frameon=False);"
   ]
  },
  {
   "cell_type": "code",
   "execution_count": null,
   "metadata": {},
   "outputs": [],
   "source": []
  },
  {
   "cell_type": "code",
   "execution_count": null,
   "metadata": {},
   "outputs": [],
   "source": []
  }
 ],
 "metadata": {
  "kernelspec": {
   "display_name": "Python 3",
   "language": "python",
   "name": "python3"
  },
  "language_info": {
   "codemirror_mode": {
    "name": "ipython",
    "version": 3
   },
   "file_extension": ".py",
   "mimetype": "text/x-python",
   "name": "python",
   "nbconvert_exporter": "python",
   "pygments_lexer": "ipython3",
   "version": "3.5.5"
  }
 },
 "nbformat": 4,
 "nbformat_minor": 2
}
