{
 "cells": [
  {
   "cell_type": "code",
   "execution_count": 1,
   "metadata": {},
   "outputs": [],
   "source": [
    "import numpy as np\n",
    "import torch,  os\n",
    "import pandas as pd\n",
    "from torchvision import datasets, transforms\n",
    "from sklearn.model_selection import train_test_split\n",
    "from torch import nn, optim\n",
    "import torch.nn.functional as F\n",
    "import cv2"
   ]
  },
  {
   "cell_type": "code",
   "execution_count": 17,
   "metadata": {},
   "outputs": [],
   "source": [
    "# load data\n",
    "\n",
    "train_df = pd.read_csv(r'./train.csv')\n",
    "test_df = pd.read_csv(r'./test.csv')\n",
    "train_picture_path=  r'./train'\n",
    "test_picture_path = r'./test_images/'\n",
    "zoom=32\n",
    "IMG_SIZE = zoom"
   ]
  },
  {
   "cell_type": "code",
   "execution_count": 18,
   "metadata": {},
   "outputs": [
    {
     "data": {
      "text/html": [
       "<div>\n",
       "<style scoped>\n",
       "    .dataframe tbody tr th:only-of-type {\n",
       "        vertical-align: middle;\n",
       "    }\n",
       "\n",
       "    .dataframe tbody tr th {\n",
       "        vertical-align: top;\n",
       "    }\n",
       "\n",
       "    .dataframe thead th {\n",
       "        text-align: right;\n",
       "    }\n",
       "</style>\n",
       "<table border=\"1\" class=\"dataframe\">\n",
       "  <thead>\n",
       "    <tr style=\"text-align: right;\">\n",
       "      <th></th>\n",
       "      <th>ID</th>\n",
       "      <th>Label</th>\n",
       "    </tr>\n",
       "  </thead>\n",
       "  <tbody>\n",
       "    <tr>\n",
       "      <th>0</th>\n",
       "      <td>train_00000.png</td>\n",
       "      <td>0</td>\n",
       "    </tr>\n",
       "    <tr>\n",
       "      <th>1</th>\n",
       "      <td>train_00001.png</td>\n",
       "      <td>1</td>\n",
       "    </tr>\n",
       "    <tr>\n",
       "      <th>2</th>\n",
       "      <td>train_00002.png</td>\n",
       "      <td>1</td>\n",
       "    </tr>\n",
       "    <tr>\n",
       "      <th>3</th>\n",
       "      <td>train_00003.png</td>\n",
       "      <td>5</td>\n",
       "    </tr>\n",
       "    <tr>\n",
       "      <th>4</th>\n",
       "      <td>train_00004.png</td>\n",
       "      <td>5</td>\n",
       "    </tr>\n",
       "  </tbody>\n",
       "</table>\n",
       "</div>"
      ],
      "text/plain": [
       "                ID  Label\n",
       "0  train_00000.png      0\n",
       "1  train_00001.png      1\n",
       "2  train_00002.png      1\n",
       "3  train_00003.png      5\n",
       "4  train_00004.png      5"
      ]
     },
     "execution_count": 18,
     "metadata": {},
     "output_type": "execute_result"
    }
   ],
   "source": [
    "train_df.head()"
   ]
  },
  {
   "cell_type": "code",
   "execution_count": 19,
   "metadata": {},
   "outputs": [],
   "source": [
    "def load_images(x,zoom , dir_path):\n",
    "    return cv2.resize(cv2.imread(os.path.join(dir_path , x)),(zoom,zoom))"
   ]
  },
  {
   "cell_type": "code",
   "execution_count": 2,
   "metadata": {},
   "outputs": [],
   "source": [
    "# Create a Dataset to hold the input data and make it available to dataloader\n",
    "class MyDataset(torch.utils.data.Dataset):\n",
    "    def __init__(self, images, labels, transforms=None):\n",
    "        self.X = images\n",
    "        self.y = labels\n",
    "        self.transforms = transforms\n",
    "        \n",
    "    def __len__(self):\n",
    "        return (len(self.X))\n",
    "    \n",
    "    def __getitem__(self, i):\n",
    "        data = self.X.iloc[i]\n",
    "        data = np.array(data).astype(np.uint8).reshape(IMG_SIZE, IMG_SIZE, 3)\n",
    "        \n",
    "        if self.transforms:\n",
    "            data = self.transforms(data)\n",
    "            \n",
    "            # Also return label if we have it\n",
    "            if self.y is not None:\n",
    "                return (data, self.y[i])\n",
    "            else:\n",
    "                return data    "
   ]
  },
  {
   "cell_type": "code",
   "execution_count": 21,
   "metadata": {},
   "outputs": [
    {
     "data": {
      "text/html": [
       "<div>\n",
       "<style scoped>\n",
       "    .dataframe tbody tr th:only-of-type {\n",
       "        vertical-align: middle;\n",
       "    }\n",
       "\n",
       "    .dataframe tbody tr th {\n",
       "        vertical-align: top;\n",
       "    }\n",
       "\n",
       "    .dataframe thead th {\n",
       "        text-align: right;\n",
       "    }\n",
       "</style>\n",
       "<table border=\"1\" class=\"dataframe\">\n",
       "  <thead>\n",
       "    <tr style=\"text-align: right;\">\n",
       "      <th></th>\n",
       "      <th>ID</th>\n",
       "      <th>Label</th>\n",
       "    </tr>\n",
       "  </thead>\n",
       "  <tbody>\n",
       "    <tr>\n",
       "      <th>0</th>\n",
       "      <td>train_00000.png</td>\n",
       "      <td>0</td>\n",
       "    </tr>\n",
       "    <tr>\n",
       "      <th>1</th>\n",
       "      <td>train_00001.png</td>\n",
       "      <td>1</td>\n",
       "    </tr>\n",
       "    <tr>\n",
       "      <th>2</th>\n",
       "      <td>train_00002.png</td>\n",
       "      <td>1</td>\n",
       "    </tr>\n",
       "    <tr>\n",
       "      <th>3</th>\n",
       "      <td>train_00003.png</td>\n",
       "      <td>5</td>\n",
       "    </tr>\n",
       "    <tr>\n",
       "      <th>4</th>\n",
       "      <td>train_00004.png</td>\n",
       "      <td>5</td>\n",
       "    </tr>\n",
       "  </tbody>\n",
       "</table>\n",
       "</div>"
      ],
      "text/plain": [
       "                ID  Label\n",
       "0  train_00000.png      0\n",
       "1  train_00001.png      1\n",
       "2  train_00002.png      1\n",
       "3  train_00003.png      5\n",
       "4  train_00004.png      5"
      ]
     },
     "execution_count": 21,
     "metadata": {},
     "output_type": "execute_result"
    }
   ],
   "source": [
    "train_df.head()"
   ]
  },
  {
   "cell_type": "code",
   "execution_count": 22,
   "metadata": {},
   "outputs": [],
   "source": [
    "train_df['Data'] = train_df['ID'].apply(lambda x : load_images(x,zoom , train_picture_path))\n",
    "test_df['Data'] = test_df['ID'].apply(lambda x : load_images(x , zoom, test_picture_path))"
   ]
  },
  {
   "cell_type": "code",
   "execution_count": 23,
   "metadata": {},
   "outputs": [],
   "source": [
    "all_train_labels=train_df['Label']\n",
    "all_train_images = train_df['Data']\n",
    "\n",
    "test_images = test_df['Data']\n",
    "\n",
    "# Split training data so we have a small validation set and training set\n",
    "train_images, val_images, train_labels, val_labels = train_test_split(all_train_images, all_train_labels, test_size=0.2)\n",
    "\n",
    "# Reindex so we can refer to first element using index 0\n",
    "train_images.reset_index(drop=True, inplace=True)\n",
    "val_images.reset_index(drop=True, inplace=True)\n",
    "train_labels.reset_index(drop=True, inplace=True)\n",
    "val_labels.reset_index(drop=True, inplace=True)"
   ]
  },
  {
   "cell_type": "code",
   "execution_count": 24,
   "metadata": {},
   "outputs": [],
   "source": [
    "# Training Image transformations\n",
    "train_trans = transforms.Compose([\n",
    "    transforms.ToPILImage(),\n",
    "    transforms.ToTensor()\n",
    "]\n",
    ")\n",
    "# Validation Image transformations\n",
    "val_trans = transforms.Compose([\n",
    "    transforms.ToPILImage(),\n",
    "    transforms.ToTensor()\n",
    "]\n",
    ")\n"
   ]
  },
  {
   "cell_type": "code",
   "execution_count": 25,
   "metadata": {},
   "outputs": [],
   "source": [
    "# Create data loaders\n",
    "batch_size = 64\n",
    "\n",
    "train_dataset = MyDataset(train_images, train_labels, train_trans)\n",
    "val_dataset = MyDataset(val_images, val_labels, val_trans)\n",
    "test_dataset = MyDataset(test_images, None, val_trans)\n",
    "\n",
    "train_loader = torch.utils.data.DataLoader(train_dataset, batch_size=batch_size, shuffle=True)\n",
    "val_loader = torch.utils.data.DataLoader(val_dataset, batch_size=batch_size, shuffle=True)\n",
    "test_loader = torch.utils.data.DataLoader(test_dataset, batch_size=batch_size, shuffle=True)\n"
   ]
  },
  {
   "cell_type": "code",
   "execution_count": 37,
   "metadata": {},
   "outputs": [],
   "source": [
    "class CNN(nn.Module):\n",
    "    # calculate same padding:\n",
    "    # (w - k + 2*p)/s + 1 = o\n",
    "    # => p = (s(o-1) - w + k)/2\n",
    "    def __init__(self):\n",
    "        super(CNN,self).__init__()\n",
    "        self.conv1 = nn.Sequential(\n",
    "        nn.Conv2d(\n",
    "        in_channels=3,\n",
    "        out_channels=16,\n",
    "        kernel_size=5,\n",
    "        stride=1,\n",
    "        padding=2,\n",
    "        \n",
    "        ),\n",
    "        nn.ReLU(),\n",
    "        nn.MaxPool2d(kernel_size=2,stride=(2,2),padding=0),\n",
    "        \n",
    "        )\n",
    "        self.conv2 = nn.Sequential(\n",
    "        nn.Conv2d(16,32,5,1,2),\n",
    "        nn.ReLU(),\n",
    "        nn.MaxPool2d(kernel_size=2,stride=(2,2),padding=0))\n",
    "        self.out = nn.Linear(32*8*8,10)\n",
    "        # optionally initialize weights from Gaussian;\n",
    "        # Guassian weight init is not recommended and only for demonstration purposes\n",
    "        for m in self.modules():\n",
    "            if isinstance(m, torch.nn.Conv2d) or isinstance(m, torch.nn.Linear):\n",
    "                m.weight.data.normal_(0.0, 0.01)\n",
    "                m.bias.data.zero_()\n",
    "                if m.bias is not None:\n",
    "                    m.bias.detach().zero_()\n",
    "                    \n",
    "    def forward(self,x):\n",
    "        x = self.conv1(x)\n",
    "        x = self.conv2(x)\n",
    "        x = x.view(x.size(0),-1)\n",
    "        output = self.out(x)\n",
    "        \n",
    "        return output"
   ]
  },
  {
   "cell_type": "code",
   "execution_count": 38,
   "metadata": {},
   "outputs": [],
   "source": [
    "device = torch.device(\"cuda:0\" if torch.cuda.is_available() else \"cpu\")\n",
    "model = CNN()\n",
    "optimizer = torch.optim.Adam(model.parameters(), lr=1e-5)\n",
    "#criterion = nn.MSELoss()\n",
    "criterion = nn.CrossEntropyLoss()"
   ]
  },
  {
   "cell_type": "code",
   "execution_count": 39,
   "metadata": {},
   "outputs": [
    {
     "data": {
      "text/plain": [
       "CNN(\n",
       "  (conv1): Sequential(\n",
       "    (0): Conv2d(3, 16, kernel_size=(5, 5), stride=(1, 1), padding=(2, 2))\n",
       "    (1): ReLU()\n",
       "    (2): MaxPool2d(kernel_size=2, stride=(2, 2), padding=0, dilation=1, ceil_mode=False)\n",
       "  )\n",
       "  (conv2): Sequential(\n",
       "    (0): Conv2d(16, 32, kernel_size=(5, 5), stride=(1, 1), padding=(2, 2))\n",
       "    (1): ReLU()\n",
       "    (2): MaxPool2d(kernel_size=2, stride=(2, 2), padding=0, dilation=1, ceil_mode=False)\n",
       "  )\n",
       "  (out): Linear(in_features=2048, out_features=10, bias=True)\n",
       ")"
      ]
     },
     "execution_count": 39,
     "metadata": {},
     "output_type": "execute_result"
    }
   ],
   "source": [
    "CNN()"
   ]
  },
  {
   "cell_type": "code",
   "execution_count": 95,
   "metadata": {
    "scrolled": true
   },
   "outputs": [],
   "source": []
  },
  {
   "cell_type": "code",
   "execution_count": 40,
   "metadata": {
    "scrolled": true
   },
   "outputs": [
    {
     "name": "stdout",
     "output_type": "stream",
     "text": [
      "Epoch: 1/30..  Training Loss: 2.301..  Validation Loss: 2.297..  Accuracy: 0.276\n",
      "Epoch: 2/30..  Training Loss: 2.291..  Validation Loss: 2.282..  Accuracy: 0.175\n",
      "Epoch: 3/30..  Training Loss: 2.267..  Validation Loss: 2.248..  Accuracy: 0.197\n",
      "Epoch: 4/30..  Training Loss: 2.213..  Validation Loss: 2.174..  Accuracy: 0.199\n",
      "Epoch: 5/30..  Training Loss: 2.112..  Validation Loss: 2.055..  Accuracy: 0.204\n",
      "Epoch: 6/30..  Training Loss: 1.976..  Validation Loss: 1.918..  Accuracy: 0.245\n",
      "Epoch: 7/30..  Training Loss: 1.846..  Validation Loss: 1.811..  Accuracy: 0.245\n",
      "Epoch: 8/30..  Training Loss: 1.760..  Validation Loss: 1.755..  Accuracy: 0.245\n",
      "Epoch: 9/30..  Training Loss: 1.719..  Validation Loss: 1.730..  Accuracy: 0.245\n",
      "Epoch: 10/30..  Training Loss: 1.698..  Validation Loss: 1.714..  Accuracy: 0.245\n",
      "Epoch: 11/30..  Training Loss: 1.683..  Validation Loss: 1.700..  Accuracy: 0.245\n",
      "Epoch: 12/30..  Training Loss: 1.673..  Validation Loss: 1.693..  Accuracy: 0.246\n",
      "Epoch: 13/30..  Training Loss: 1.669..  Validation Loss: 1.686..  Accuracy: 0.246\n",
      "Epoch: 14/30..  Training Loss: 1.663..  Validation Loss: 1.679..  Accuracy: 0.246\n",
      "Epoch: 15/30..  Training Loss: 1.659..  Validation Loss: 1.678..  Accuracy: 0.243\n",
      "Epoch: 16/30..  Training Loss: 1.655..  Validation Loss: 1.673..  Accuracy: 0.246\n",
      "Epoch: 17/30..  Training Loss: 1.656..  Validation Loss: 1.672..  Accuracy: 0.244\n",
      "Epoch: 18/30..  Training Loss: 1.650..  Validation Loss: 1.669..  Accuracy: 0.245\n",
      "Epoch: 19/30..  Training Loss: 1.649..  Validation Loss: 1.668..  Accuracy: 0.245\n",
      "Epoch: 20/30..  Training Loss: 1.648..  Validation Loss: 1.664..  Accuracy: 0.245\n",
      "Epoch: 21/30..  Training Loss: 1.648..  Validation Loss: 1.666..  Accuracy: 0.244\n",
      "Epoch: 22/30..  Training Loss: 1.645..  Validation Loss: 1.663..  Accuracy: 0.245\n",
      "Epoch: 23/30..  Training Loss: 1.646..  Validation Loss: 1.662..  Accuracy: 0.246\n",
      "Epoch: 24/30..  Training Loss: 1.644..  Validation Loss: 1.660..  Accuracy: 0.245\n",
      "Epoch: 25/30..  Training Loss: 1.645..  Validation Loss: 1.661..  Accuracy: 0.245\n",
      "Epoch: 26/30..  Training Loss: 1.644..  Validation Loss: 1.659..  Accuracy: 0.245\n",
      "Epoch: 27/30..  Training Loss: 1.643..  Validation Loss: 1.659..  Accuracy: 0.245\n",
      "Epoch: 28/30..  Training Loss: 1.641..  Validation Loss: 1.659..  Accuracy: 0.245\n",
      "Epoch: 29/30..  Training Loss: 1.643..  Validation Loss: 1.660..  Accuracy: 0.244\n",
      "Epoch: 30/30..  Training Loss: 1.641..  Validation Loss: 1.658..  Accuracy: 0.245\n"
     ]
    }
   ],
   "source": [
    "# Train the model\n",
    "\n",
    "epochs = 30\n",
    "\n",
    "train_losses, val_losses = [], []\n",
    "for e in range(epochs):\n",
    "    running_loss = 0\n",
    "    for images, labels in train_loader:\n",
    "        # Clear last image's results\n",
    "        optimizer.zero_grad()\n",
    "        log_ps = model(images)\n",
    "        loss = criterion(log_ps, labels)\n",
    "        loss.backward()\n",
    "        optimizer.step()\n",
    "        running_loss += loss.item()\n",
    "    else:\n",
    "        val_loss = 0\n",
    "        accuracy = 0\n",
    "        with torch.no_grad():\n",
    "            for images, labels in val_loader:\n",
    "                log_ps = model(images)\n",
    "                val_loss += criterion(log_ps, labels)\n",
    "                ps = torch.exp(log_ps)\n",
    "                top_p, top_class = ps.topk(1, dim=1)\n",
    "                equals = top_class == labels.view(*top_class.shape)\n",
    "                accuracy += torch.mean(equals.type(torch.FloatTensor))\n",
    "        \n",
    "        train_losses.append(running_loss/len(train_loader))\n",
    "        val_losses.append(val_loss/len(val_loader))\n",
    "        \n",
    "        print(\"Epoch: {}/{}.. \".format(e+1, epochs),\n",
    "             \"Training Loss: {:.3f}.. \".format(running_loss/len(train_loader)),\n",
    "             \"Validation Loss: {:.3f}.. \".format(val_loss/len(val_loader)),\n",
    "             \"Accuracy: {:.3f}\".format(accuracy/len(val_loader)))\n",
    "        "
   ]
  },
  {
   "cell_type": "code",
   "execution_count": null,
   "metadata": {},
   "outputs": [],
   "source": []
  },
  {
   "cell_type": "code",
   "execution_count": 30,
   "metadata": {
    "scrolled": true
   },
   "outputs": [
    {
     "data": {
      "image/png": "[encoded data removed]",
      "text/plain": [
       "<Figure size 432x288 with 1 Axes>"
      ]
     },
     "metadata": {
      "image/png": {
       "height": 250,
       "width": 373
      }
     },
     "output_type": "display_data"
    }
   ],
   "source": [
    "# Plot the losses\n",
    "%matplotlib inline\n",
    "%config InlineBackend.figure_format = 'retina'\n",
    "import matplotlib.pyplot as plt\n",
    "\n",
    "plt.plot(train_losses, label='Training Loss')\n",
    "plt.plot(val_losses, label='Validation Loss')\n",
    "plt.legend(frameon=False);"
   ]
  },
  {
   "cell_type": "code",
   "execution_count": null,
   "metadata": {},
   "outputs": [],
   "source": []
  },
  {
   "cell_type": "code",
   "execution_count": null,
   "metadata": {},
   "outputs": [],
   "source": []
  }
 ],
 "metadata": {
  "kernelspec": {
   "display_name": "Python 3",
   "language": "python",
   "name": "python3"
  },
  "language_info": {
   "codemirror_mode": {
    "name": "ipython",
    "version": 3
   },
   "file_extension": ".py",
   "mimetype": "text/x-python",
   "name": "python",
   "nbconvert_exporter": "python",
   "pygments_lexer": "ipython3",
   "version": "3.5.5"
  }
 },
 "nbformat": 4,
 "nbformat_minor": 2
}
