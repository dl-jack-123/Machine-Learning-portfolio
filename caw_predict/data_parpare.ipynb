{
 "cells": [
  {
   "cell_type": "code",
   "execution_count": 1,
   "metadata": {},
   "outputs": [],
   "source": [
    "import numpy as np\n",
    "import pandas as pd\n",
    "from sklearn.model_selection import train_test_split\n",
    "from sklearn.tree import DecisionTreeClassifier\n",
    "from sklearn.metrics import classification_report,confusion_matrix\n",
    "from sklearn import tree , datasets\n",
    "import os"
   ]
  },
  {
   "cell_type": "code",
   "execution_count": 2,
   "metadata": {},
   "outputs": [],
   "source": [
    "%load_ext autoreload\n",
    "%autoreload 2"
   ]
  },
  {
   "cell_type": "code",
   "execution_count": 3,
   "metadata": {},
   "outputs": [],
   "source": [
    "# data source path\n",
    "data_path = r'./data'\n",
    "final_data_path = r'./final_data'\n",
    "\n"
   ]
  },
  {
   "cell_type": "code",
   "execution_count": 4,
   "metadata": {},
   "outputs": [
    {
     "name": "stderr",
     "output_type": "stream",
     "text": [
      "C:\\ProgramData\\Anaconda3\\lib\\site-packages\\IPython\\core\\interactiveshell.py:2785: DtypeWarning: Columns (6) have mixed types. Specify dtype option on import or set low_memory=False.\n",
      "  interactivity=interactivity, compiler=compiler, result=result)\n"
     ]
    }
   ],
   "source": [
    "# data read and rename columns \n",
    "birth_col = ['cow_number','confinement date','Date of dried milk','calf number1','calf number2','cow weight','login date'\n",
    "            ,'Calculated tire','tire','difficulty level of confinement','calf size','calf gender','farm number']\n",
    "\n",
    "report_col = ['ID','year','month','farm number','cow_number','father_cow_number','mother_cow_number','birthday','tire'\n",
    "              ,'lactation date','milk support','last confinement date','sampling date','age of month','inspection date'\n",
    "             ,'final breeding date','final breeding semen','breeding times','before confinement date','first breeding date'\n",
    "             ,'first breeding semen']\n",
    "\n",
    "birth_df = pd.read_csv(os.path.join(data_path , 'birth.csv') , names = birth_col,  skiprows=1)\n",
    "report_df = pd.read_csv(os.path.join(data_path , 'report.csv') , names = report_col , skiprows=1)"
   ]
  },
  {
   "cell_type": "code",
   "execution_count": 5,
   "metadata": {},
   "outputs": [
    {
     "data": {
      "text/plain": [
       "21"
      ]
     },
     "execution_count": 5,
     "metadata": {},
     "output_type": "execute_result"
    }
   ],
   "source": [
    "len(report_col)"
   ]
  },
  {
   "cell_type": "code",
   "execution_count": 6,
   "metadata": {},
   "outputs": [
    {
     "name": "stdout",
     "output_type": "stream",
     "text": [
      "birth table : \n",
      "Dataset Shape::  (3761, 13)\n"
     ]
    },
    {
     "data": {
      "text/html": [
       "<div>\n",
       "<style scoped>\n",
       "    .dataframe tbody tr th:only-of-type {\n",
       "        vertical-align: middle;\n",
       "    }\n",
       "\n",
       "    .dataframe tbody tr th {\n",
       "        vertical-align: top;\n",
       "    }\n",
       "\n",
       "    .dataframe thead th {\n",
       "        text-align: right;\n",
       "    }\n",
       "</style>\n",
       "<table border=\"1\" class=\"dataframe\">\n",
       "  <thead>\n",
       "    <tr style=\"text-align: right;\">\n",
       "      <th></th>\n",
       "      <th>cow_number</th>\n",
       "      <th>confinement date</th>\n",
       "      <th>Date of dried milk</th>\n",
       "      <th>calf number1</th>\n",
       "      <th>calf number2</th>\n",
       "      <th>cow weight</th>\n",
       "      <th>login date</th>\n",
       "      <th>Calculated tire</th>\n",
       "      <th>tire</th>\n",
       "      <th>difficulty level of confinement</th>\n",
       "      <th>calf size</th>\n",
       "      <th>calf gender</th>\n",
       "      <th>farm number</th>\n",
       "    </tr>\n",
       "  </thead>\n",
       "  <tbody>\n",
       "    <tr>\n",
       "      <th>0</th>\n",
       "      <td>87121677</td>\n",
       "      <td>2013/1/4 00:00</td>\n",
       "      <td>NaN</td>\n",
       "      <td>NaN</td>\n",
       "      <td>NaN</td>\n",
       "      <td>NaN</td>\n",
       "      <td>2013/1/25 00:00</td>\n",
       "      <td>True</td>\n",
       "      <td>2</td>\n",
       "      <td>1.0</td>\n",
       "      <td>NaN</td>\n",
       "      <td>NaN</td>\n",
       "      <td>B</td>\n",
       "    </tr>\n",
       "    <tr>\n",
       "      <th>1</th>\n",
       "      <td>96126940</td>\n",
       "      <td>2013/1/2 00:00</td>\n",
       "      <td>NaN</td>\n",
       "      <td>NaN</td>\n",
       "      <td>NaN</td>\n",
       "      <td>522.0</td>\n",
       "      <td>2013/1/25 00:00</td>\n",
       "      <td>True</td>\n",
       "      <td>2</td>\n",
       "      <td>2.0</td>\n",
       "      <td>NaN</td>\n",
       "      <td>NaN</td>\n",
       "      <td>B</td>\n",
       "    </tr>\n",
       "    <tr>\n",
       "      <th>2</th>\n",
       "      <td>95181708</td>\n",
       "      <td>2013/1/14 00:00</td>\n",
       "      <td>2014/1/3 00:00</td>\n",
       "      <td>2188113</td>\n",
       "      <td>NaN</td>\n",
       "      <td>670.0</td>\n",
       "      <td>2013/1/25 00:00</td>\n",
       "      <td>True</td>\n",
       "      <td>5</td>\n",
       "      <td>1.0</td>\n",
       "      <td>NaN</td>\n",
       "      <td>NaN</td>\n",
       "      <td>C</td>\n",
       "    </tr>\n",
       "    <tr>\n",
       "      <th>3</th>\n",
       "      <td>97127665</td>\n",
       "      <td>2013/1/9 00:00</td>\n",
       "      <td>2014/3/12 00:00</td>\n",
       "      <td>NaN</td>\n",
       "      <td>NaN</td>\n",
       "      <td>NaN</td>\n",
       "      <td>2013/1/25 00:00</td>\n",
       "      <td>True</td>\n",
       "      <td>3</td>\n",
       "      <td>2.0</td>\n",
       "      <td>NaN</td>\n",
       "      <td>NaN</td>\n",
       "      <td>B</td>\n",
       "    </tr>\n",
       "    <tr>\n",
       "      <th>4</th>\n",
       "      <td>97182634</td>\n",
       "      <td>2013/1/9 00:00</td>\n",
       "      <td>2014/3/25 00:00</td>\n",
       "      <td>NaN</td>\n",
       "      <td>NaN</td>\n",
       "      <td>630.0</td>\n",
       "      <td>2013/1/25 00:00</td>\n",
       "      <td>True</td>\n",
       "      <td>4</td>\n",
       "      <td>1.0</td>\n",
       "      <td>NaN</td>\n",
       "      <td>NaN</td>\n",
       "      <td>C</td>\n",
       "    </tr>\n",
       "  </tbody>\n",
       "</table>\n",
       "</div>"
      ],
      "text/plain": [
       "   cow_number confinement date Date of dried milk calf number1 calf number2  \\\n",
       "0    87121677   2013/1/4 00:00                NaN          NaN          NaN   \n",
       "1    96126940   2013/1/2 00:00                NaN          NaN          NaN   \n",
       "2    95181708  2013/1/14 00:00     2014/1/3 00:00      2188113          NaN   \n",
       "3    97127665   2013/1/9 00:00    2014/3/12 00:00          NaN          NaN   \n",
       "4    97182634   2013/1/9 00:00    2014/3/25 00:00          NaN          NaN   \n",
       "\n",
       "   cow weight       login date  Calculated tire  tire  \\\n",
       "0         NaN  2013/1/25 00:00             True     2   \n",
       "1       522.0  2013/1/25 00:00             True     2   \n",
       "2       670.0  2013/1/25 00:00             True     5   \n",
       "3         NaN  2013/1/25 00:00             True     3   \n",
       "4       630.0  2013/1/25 00:00             True     4   \n",
       "\n",
       "   difficulty level of confinement calf size calf gender farm number  \n",
       "0                              1.0       NaN         NaN           B  \n",
       "1                              2.0       NaN         NaN           B  \n",
       "2                              1.0       NaN         NaN           C  \n",
       "3                              2.0       NaN         NaN           B  \n",
       "4                              1.0       NaN         NaN           C  "
      ]
     },
     "execution_count": 6,
     "metadata": {},
     "output_type": "execute_result"
    }
   ],
   "source": [
    "print('birth table : ')\n",
    "print (\"Dataset Shape:: \", birth_df.shape)\n",
    "birth_df.head()"
   ]
  },
  {
   "cell_type": "code",
   "execution_count": 7,
   "metadata": {
    "scrolled": true
   },
   "outputs": [
    {
     "name": "stdout",
     "output_type": "stream",
     "text": [
      "report table : \n",
      "Dataset Shape::  (37517, 21)\n"
     ]
    },
    {
     "data": {
      "text/html": [
       "<div>\n",
       "<style scoped>\n",
       "    .dataframe tbody tr th:only-of-type {\n",
       "        vertical-align: middle;\n",
       "    }\n",
       "\n",
       "    .dataframe tbody tr th {\n",
       "        vertical-align: top;\n",
       "    }\n",
       "\n",
       "    .dataframe thead th {\n",
       "        text-align: right;\n",
       "    }\n",
       "</style>\n",
       "<table border=\"1\" class=\"dataframe\">\n",
       "  <thead>\n",
       "    <tr style=\"text-align: right;\">\n",
       "      <th></th>\n",
       "      <th>ID</th>\n",
       "      <th>year</th>\n",
       "      <th>month</th>\n",
       "      <th>farm number</th>\n",
       "      <th>cow_number</th>\n",
       "      <th>father_cow_number</th>\n",
       "      <th>mother_cow_number</th>\n",
       "      <th>birthday</th>\n",
       "      <th>tire</th>\n",
       "      <th>lactation date</th>\n",
       "      <th>...</th>\n",
       "      <th>last confinement date</th>\n",
       "      <th>sampling date</th>\n",
       "      <th>age of month</th>\n",
       "      <th>inspection date</th>\n",
       "      <th>final breeding date</th>\n",
       "      <th>final breeding semen</th>\n",
       "      <th>breeding times</th>\n",
       "      <th>before confinement date</th>\n",
       "      <th>first breeding date</th>\n",
       "      <th>first breeding semen</th>\n",
       "    </tr>\n",
       "  </thead>\n",
       "  <tbody>\n",
       "    <tr>\n",
       "      <th>0</th>\n",
       "      <td>1</td>\n",
       "      <td>2013</td>\n",
       "      <td>3</td>\n",
       "      <td>A</td>\n",
       "      <td>52612</td>\n",
       "      <td>507H7173</td>\n",
       "      <td>96040545</td>\n",
       "      <td>2011/1/1 00:00</td>\n",
       "      <td>1</td>\n",
       "      <td>78.0</td>\n",
       "      <td>...</td>\n",
       "      <td>2013/1/1 00:00</td>\n",
       "      <td>2013/3/20 00:00</td>\n",
       "      <td>26</td>\n",
       "      <td>2013/3/21 00:00</td>\n",
       "      <td>2015/5/5 00:00</td>\n",
       "      <td>507H11621</td>\n",
       "      <td>1</td>\n",
       "      <td>NaN</td>\n",
       "      <td>2013/3/5 00:00</td>\n",
       "      <td>501H8784</td>\n",
       "    </tr>\n",
       "    <tr>\n",
       "      <th>1</th>\n",
       "      <td>2</td>\n",
       "      <td>2013</td>\n",
       "      <td>4</td>\n",
       "      <td>A</td>\n",
       "      <td>52612</td>\n",
       "      <td>507H7173</td>\n",
       "      <td>96040545</td>\n",
       "      <td>2011/1/1 00:00</td>\n",
       "      <td>1</td>\n",
       "      <td>107.0</td>\n",
       "      <td>...</td>\n",
       "      <td>2013/1/1 00:00</td>\n",
       "      <td>2013/4/18 00:00</td>\n",
       "      <td>27</td>\n",
       "      <td>2013/4/19 00:00</td>\n",
       "      <td>2015/5/5 00:00</td>\n",
       "      <td>507H11621</td>\n",
       "      <td>1</td>\n",
       "      <td>NaN</td>\n",
       "      <td>2013/3/5 00:00</td>\n",
       "      <td>501H8784</td>\n",
       "    </tr>\n",
       "    <tr>\n",
       "      <th>2</th>\n",
       "      <td>3</td>\n",
       "      <td>2013</td>\n",
       "      <td>5</td>\n",
       "      <td>A</td>\n",
       "      <td>52612</td>\n",
       "      <td>507H7173</td>\n",
       "      <td>96040545</td>\n",
       "      <td>2011/1/1 00:00</td>\n",
       "      <td>1</td>\n",
       "      <td>140.0</td>\n",
       "      <td>...</td>\n",
       "      <td>2013/1/1 00:00</td>\n",
       "      <td>2013/5/21 00:00</td>\n",
       "      <td>28</td>\n",
       "      <td>2013/5/22 00:00</td>\n",
       "      <td>2015/5/5 00:00</td>\n",
       "      <td>507H11621</td>\n",
       "      <td>2</td>\n",
       "      <td>NaN</td>\n",
       "      <td>2013/3/5 00:00</td>\n",
       "      <td>501H8784</td>\n",
       "    </tr>\n",
       "    <tr>\n",
       "      <th>3</th>\n",
       "      <td>4</td>\n",
       "      <td>2013</td>\n",
       "      <td>6</td>\n",
       "      <td>A</td>\n",
       "      <td>52612</td>\n",
       "      <td>507H7173</td>\n",
       "      <td>96040545</td>\n",
       "      <td>2011/1/1 00:00</td>\n",
       "      <td>1</td>\n",
       "      <td>175.0</td>\n",
       "      <td>...</td>\n",
       "      <td>2013/1/1 00:00</td>\n",
       "      <td>2013/6/25 00:00</td>\n",
       "      <td>29</td>\n",
       "      <td>2013/6/26 00:00</td>\n",
       "      <td>2015/5/5 00:00</td>\n",
       "      <td>507H11621</td>\n",
       "      <td>2</td>\n",
       "      <td>NaN</td>\n",
       "      <td>2013/3/5 00:00</td>\n",
       "      <td>501H8784</td>\n",
       "    </tr>\n",
       "    <tr>\n",
       "      <th>4</th>\n",
       "      <td>5</td>\n",
       "      <td>2013</td>\n",
       "      <td>7</td>\n",
       "      <td>A</td>\n",
       "      <td>52612</td>\n",
       "      <td>507H7173</td>\n",
       "      <td>96040545</td>\n",
       "      <td>2011/1/1 00:00</td>\n",
       "      <td>1</td>\n",
       "      <td>210.0</td>\n",
       "      <td>...</td>\n",
       "      <td>2013/1/1 00:00</td>\n",
       "      <td>2013/7/30 00:00</td>\n",
       "      <td>30</td>\n",
       "      <td>2013/7/31 00:00</td>\n",
       "      <td>2015/5/5 00:00</td>\n",
       "      <td>507H11621</td>\n",
       "      <td>2</td>\n",
       "      <td>NaN</td>\n",
       "      <td>2013/3/5 00:00</td>\n",
       "      <td>501H8784</td>\n",
       "    </tr>\n",
       "  </tbody>\n",
       "</table>\n",
       "<p>5 rows × 21 columns</p>\n",
       "</div>"
      ],
      "text/plain": [
       "   ID  year  month farm number  cow_number father_cow_number  \\\n",
       "0   1  2013      3           A       52612          507H7173   \n",
       "1   2  2013      4           A       52612          507H7173   \n",
       "2   3  2013      5           A       52612          507H7173   \n",
       "3   4  2013      6           A       52612          507H7173   \n",
       "4   5  2013      7           A       52612          507H7173   \n",
       "\n",
       "  mother_cow_number        birthday  tire  lactation date  \\\n",
       "0          96040545  2011/1/1 00:00     1            78.0   \n",
       "1          96040545  2011/1/1 00:00     1           107.0   \n",
       "2          96040545  2011/1/1 00:00     1           140.0   \n",
       "3          96040545  2011/1/1 00:00     1           175.0   \n",
       "4          96040545  2011/1/1 00:00     1           210.0   \n",
       "\n",
       "          ...           last confinement date    sampling date age of month  \\\n",
       "0         ...                  2013/1/1 00:00  2013/3/20 00:00           26   \n",
       "1         ...                  2013/1/1 00:00  2013/4/18 00:00           27   \n",
       "2         ...                  2013/1/1 00:00  2013/5/21 00:00           28   \n",
       "3         ...                  2013/1/1 00:00  2013/6/25 00:00           29   \n",
       "4         ...                  2013/1/1 00:00  2013/7/30 00:00           30   \n",
       "\n",
       "   inspection date final breeding date final breeding semen breeding times  \\\n",
       "0  2013/3/21 00:00      2015/5/5 00:00            507H11621              1   \n",
       "1  2013/4/19 00:00      2015/5/5 00:00            507H11621              1   \n",
       "2  2013/5/22 00:00      2015/5/5 00:00            507H11621              2   \n",
       "3  2013/6/26 00:00      2015/5/5 00:00            507H11621              2   \n",
       "4  2013/7/31 00:00      2015/5/5 00:00            507H11621              2   \n",
       "\n",
       "   before confinement date first breeding date first breeding semen  \n",
       "0                      NaN      2013/3/5 00:00             501H8784  \n",
       "1                      NaN      2013/3/5 00:00             501H8784  \n",
       "2                      NaN      2013/3/5 00:00             501H8784  \n",
       "3                      NaN      2013/3/5 00:00             501H8784  \n",
       "4                      NaN      2013/3/5 00:00             501H8784  \n",
       "\n",
       "[5 rows x 21 columns]"
      ]
     },
     "execution_count": 7,
     "metadata": {},
     "output_type": "execute_result"
    }
   ],
   "source": [
    "print('report table : ')\n",
    "print (\"Dataset Shape:: \", report_df.shape)\n",
    "report_df.head()"
   ]
  },
  {
   "cell_type": "code",
   "execution_count": 8,
   "metadata": {},
   "outputs": [],
   "source": [
    "# change string to int \n",
    "\n",
    "def replace_string_int(x , items):\n",
    "    for i,j in items:\n",
    "        if x == j :\n",
    "            return str(i) \n",
    "\n",
    "def change_col(col_list,report_df):\n",
    "    for col in col_list:\n",
    "        farm_number_list = list(set(report_df[col]))\n",
    "        turple_fram_number = [i for i in enumerate(farm_number_list)]\n",
    "        #print(turple_fram_number)\n",
    "        report_df[col] = report_df[col].apply(lambda x : replace_string_int(x , turple_fram_number))\n",
    "        \n",
    "    return report_df\n",
    "    \n",
    "change_col_list = ['farm number','final breeding semen','first breeding semen','father_cow_number','mother_cow_number']\n",
    "report_df = change_col(change_col_list , report_df)\n",
    "\n",
    "\n"
   ]
  },
  {
   "cell_type": "code",
   "execution_count": 9,
   "metadata": {},
   "outputs": [
    {
     "name": "stdout",
     "output_type": "stream",
     "text": [
      "x train shape (23229, 12)\n",
      "x test shape (5808, 12)\n",
      "y train shape (23229,)\n",
      "y test shape (5808,)\n"
     ]
    }
   ],
   "source": [
    "temp_df = report_df.drop(['birthday','lactation date','last confinement date','sampling date','inspection date'\n",
    "                   ,'final breeding date','before confinement date','first breeding date'],axis=1)\n",
    "temp_df = temp_df.dropna()\n",
    "x = temp_df.drop('milk support',axis=1)\n",
    "y = temp_df['milk support']\n",
    "\n",
    "x_train, x_test, y_train, y_test = train_test_split( x, y, test_size = 0.2, random_state = 100)\n",
    "print('x train shape {}'.format(x_train.shape))\n",
    "print('x test shape {}'.format(x_test.shape))\n",
    "print('y train shape {}'.format(y_train.shape))\n",
    "print('y test shape {}'.format(y_test.shape))"
   ]
  },
  {
   "cell_type": "code",
   "execution_count": 10,
   "metadata": {},
   "outputs": [
    {
     "name": "stdout",
     "output_type": "stream",
     "text": [
      "Linear Regression with MSE is 51.334231490074785 score\n"
     ]
    }
   ],
   "source": [
    "from sklearn import linear_model\n",
    "from sklearn.metrics import mean_squared_error as mse\n",
    "reg = linear_model.LinearRegression()\n",
    "reg.fit(x_train, y_train)\n",
    "y_pred = reg.predict(x_test)\n",
    "\n",
    "print('Linear Regression with MSE is {} score'.format(mse(y_pred ,y_test)))\n"
   ]
  },
  {
   "cell_type": "code",
   "execution_count": 11,
   "metadata": {
    "scrolled": true
   },
   "outputs": [
    {
     "name": "stdout",
     "output_type": "stream",
     "text": [
      "Bayesian Ridge Regression with MSE is 51.33317582485689 score\n"
     ]
    }
   ],
   "source": [
    "# Bayesian Ridge Regression\n",
    "\n",
    "reg = linear_model.BayesianRidge()\n",
    "reg.fit(x_train, y_train)\n",
    "y_pred = reg.predict(x_test)\n",
    "print('Bayesian Ridge Regression with MSE is {} score'.format(mse(y_pred ,y_test)))"
   ]
  },
  {
   "cell_type": "code",
   "execution_count": 12,
   "metadata": {},
   "outputs": [
    {
     "name": "stdout",
     "output_type": "stream",
     "text": [
      "Polynomial degree=3 + linear model using pipeline with MSE is 5676.9677162034595 score\n"
     ]
    }
   ],
   "source": [
    "# Polynomial + linear model using pipeline\n",
    "from sklearn.preprocessing import PolynomialFeatures\n",
    "from sklearn.pipeline import Pipeline\n",
    "model = Pipeline([('poly', PolynomialFeatures(degree=3)),\n",
    "                   ('linear', linear_model.LinearRegression(fit_intercept=False))])\n",
    "model.fit(x_train, y_train)\n",
    "y_pred = model.predict(x_test)\n",
    "print('Polynomial degree=3 + linear model using pipeline with MSE is {} score'.format(mse(y_pred ,y_test)))\n",
    "\n"
   ]
  },
  {
   "cell_type": "code",
   "execution_count": 13,
   "metadata": {},
   "outputs": [
    {
     "name": "stdout",
     "output_type": "stream",
     "text": [
      "Support Vector Machines Regression with MSE is 74.21419954290843 score\n"
     ]
    }
   ],
   "source": [
    "# Support Vector Machines\n",
    "from sklearn import svm\n",
    "\n",
    "model = svm.SVR()\n",
    "model.fit(x_train,y_train)\n",
    "y_pred = model.predict(x_test)\n",
    "print('Support Vector Machines Regression with MSE is {} score'.format(mse(y_pred ,y_test)))\n",
    "\n"
   ]
  },
  {
   "cell_type": "code",
   "execution_count": 14,
   "metadata": {},
   "outputs": [
    {
     "name": "stdout",
     "output_type": "stream",
     "text": [
      "Stochastic Gradient Descent Regression with MSE is 6.286152168205721e+46 score\n"
     ]
    }
   ],
   "source": [
    "# Stochastic Gradient Descent Regression\n",
    "\n",
    "model = linear_model.SGDRegressor(max_iter=1000, tol=1e-4)\n",
    "model.fit(x_train,y_train)\n",
    "y_pred = model.predict(x_test)\n",
    "print('Stochastic Gradient Descent Regression with MSE is {} score'.format(mse(y_pred ,y_test)))\n",
    "\n"
   ]
  },
  {
   "cell_type": "code",
   "execution_count": 15,
   "metadata": {},
   "outputs": [
    {
     "name": "stdout",
     "output_type": "stream",
     "text": [
      "Decision Tree Regression  with MSE is 48.11710055096419 score\n"
     ]
    }
   ],
   "source": [
    "# Decision Tree Regression\n",
    "from sklearn import tree\n",
    "model = tree.DecisionTreeRegressor()\n",
    "model.fit(x_train,y_train)\n",
    "y_pred = model.predict(x_test)\n",
    "print('Decision Tree Regression  with MSE is {} score'.format(mse(y_pred ,y_test)))"
   ]
  },
  {
   "cell_type": "code",
   "execution_count": 16,
   "metadata": {},
   "outputs": [
    {
     "name": "stdout",
     "output_type": "stream",
     "text": [
      "Bagging Regressor + Decision Tree Regression  with MSE is 28.82585404614325 score\n"
     ]
    }
   ],
   "source": [
    "# Decision Tree Regression + Bagging Regressor\n",
    "from sklearn import tree\n",
    "from sklearn.ensemble import BaggingRegressor\n",
    "\n",
    "model = BaggingRegressor(tree.DecisionTreeRegressor())\n",
    "model.fit(x_train,y_train)\n",
    "y_pred = model.predict(x_test)\n",
    "print('Bagging Regressor + Decision Tree Regression  with MSE is {} score'.format(mse(y_pred ,y_test)))\n"
   ]
  },
  {
   "cell_type": "code",
   "execution_count": 17,
   "metadata": {},
   "outputs": [
    {
     "name": "stdout",
     "output_type": "stream",
     "text": [
      "RandomForestRegressor  with MSE is 55.45966234303219 score\n"
     ]
    }
   ],
   "source": [
    "# RandomForestRegressor\n",
    "from sklearn import tree\n",
    "from sklearn.ensemble import RandomForestRegressor\n",
    "\n",
    "model = RandomForestRegressor(max_depth=2, random_state=0)\n",
    "model.fit(x_train,y_train)\n",
    "y_pred = model.predict(x_test)\n",
    "print('RandomForestRegressor  with MSE is {} score'.format(mse(y_pred ,y_test)))\n"
   ]
  },
  {
   "cell_type": "code",
   "execution_count": 18,
   "metadata": {},
   "outputs": [
    {
     "name": "stdout",
     "output_type": "stream",
     "text": [
      "DecisionTreeRegressor + AdaBoostRegressor  with MSE is 50.32202462098741 score\n"
     ]
    }
   ],
   "source": [
    "# DecisionTreeRegressor + AdaBoostRegressor\n",
    "from sklearn import tree\n",
    "from sklearn.ensemble import AdaBoostRegressor\n",
    "\n",
    "model = AdaBoostRegressor(tree.DecisionTreeRegressor(max_depth=4),n_estimators=1000, random_state=np.random.RandomState(1))\n",
    "model.fit(x_train,y_train)\n",
    "y_pred = model.predict(x_test)\n",
    "print('DecisionTreeRegressor + AdaBoostRegressor  with MSE is {} score'.format(mse(y_pred ,y_test)))\n"
   ]
  },
  {
   "cell_type": "code",
   "execution_count": 19,
   "metadata": {},
   "outputs": [
    {
     "name": "stdout",
     "output_type": "stream",
     "text": [
      "GradientBoostingRegressor  with MSE is 49.65248777060311 score\n"
     ]
    }
   ],
   "source": [
    "# GradientBoostingRegressor GBDT\n",
    "from sklearn import tree\n",
    "from sklearn.ensemble import GradientBoostingRegressor\n",
    "\n",
    "model = GradientBoostingRegressor(n_estimators=100, learning_rate=0.1, max_depth=1, random_state=0, loss='ls')\n",
    "model.fit(x_train,y_train)\n",
    "y_pred = model.predict(x_test)\n",
    "print('GradientBoostingRegressor  with MSE is {} score'.format(mse(y_pred ,y_test)))\n"
   ]
  },
  {
   "cell_type": "code",
   "execution_count": 22,
   "metadata": {
    "scrolled": false
   },
   "outputs": [
    {
     "name": "stdout",
     "output_type": "stream",
     "text": [
      "Voting Regressor  with MSE is 38.09006638839522 score\n"
     ]
    }
   ],
   "source": [
    "# Voting Regressor\n",
    "from sklearn import tree\n",
    "from sklearn.ensemble import VotingRegressor,GradientBoostingRegressor,RandomForestRegressor\n",
    "\n",
    "reg1 = GradientBoostingRegressor(random_state=1, n_estimators=10)\n",
    "reg2 = RandomForestRegressor(random_state=1, n_estimators=10)\n",
    "reg3 = linear_model.LinearRegression()\n",
    "\n",
    "\n",
    "model = VotingRegressor(estimators=[('gb', reg1), ('rf', reg2), ('lr', reg3)])\n",
    "model.fit(x_train,y_train)\n",
    "y_pred = model.predict(x_test)\n",
    "print('Voting Regressor  with MSE is {} score'.format(mse(y_pred ,y_test)))\n"
   ]
  },
  {
   "cell_type": "code",
   "execution_count": 26,
   "metadata": {},
   "outputs": [
    {
     "name": "stdout",
     "output_type": "stream",
     "text": [
      "Voting Regressor  with MSE is 73.21674551982785 score\n"
     ]
    }
   ],
   "source": [
    "# StackingRegressor\n",
    "from sklearn import tree\n",
    "from sklearn.ensemble import GradientBoostingRegressor , StackingRegressor ,RandomForestRegressor\n",
    "from sklearn.svm import SVR\n",
    "\n",
    "estimators = [('ridge', linear_model.RidgeCV()),\n",
    "             ('lasso', linear_model.LassoCV(random_state=42)),\n",
    "              ('svr', SVR(C=1, gamma=1e-6))]\n",
    "final_layer = StackingRegressor(estimators=[('rf', RandomForestRegressor(random_state=42)),\n",
    "                ('gbrt', GradientBoostingRegressor(random_state=42))],final_estimator=linear_model.RidgeCV())\n",
    "\n",
    "\n",
    "multi_layer_regressor  = StackingRegressor(estimators=estimators , final_estimator = final_layer)\n",
    "multi_layer_regressor.fit(x_train,y_train)\n",
    "y_pred = multi_layer_regressor.predict(x_test)\n",
    "print('Voting Regressor  with MSE is {} score'.format(mse(y_pred ,y_test)))\n"
   ]
  },
  {
   "cell_type": "code",
   "execution_count": null,
   "metadata": {},
   "outputs": [],
   "source": []
  }
 ],
 "metadata": {
  "kernelspec": {
   "display_name": "Python 3",
   "language": "python",
   "name": "python3"
  },
  "language_info": {
   "codemirror_mode": {
    "name": "ipython",
    "version": 3
   },
   "file_extension": ".py",
   "mimetype": "text/x-python",
   "name": "python",
   "nbconvert_exporter": "python",
   "pygments_lexer": "ipython3",
   "version": "3.5.5"
  }
 },
 "nbformat": 4,
 "nbformat_minor": 2
}
